{
 "cells": [
  {
   "cell_type": "code",
   "execution_count": 1,
   "metadata": {
    "collapsed": false
   },
   "outputs": [
    {
     "name": "stdout",
     "output_type": "stream",
     "text": [
      "cars:  8792\n",
      "notcars:  8968\n"
     ]
    }
   ],
   "source": [
    "# load data\n",
    "\n",
    "# using GTI_Right as testing for vehicles, and last 20% of GTI for nonvehicles\n",
    "\n",
    "import glob\n",
    "import os\n",
    "\n",
    "cars = []\n",
    "notcars = []\n",
    "\n",
    "def load_images_from_dir(parent_dir, l):\n",
    "    for sub_dir in os.listdir(parent_dir):\n",
    "        if os.path.isdir(os.path.join(parent_dir, sub_dir)):\n",
    "            images = glob.glob(os.path.join(parent_dir, sub_dir, '*.PNG'))\n",
    "            for image in images:\n",
    "                l.append(image)\n",
    "\n",
    "vehicles_dir = \"C:\\\\Users\\\\AW51R2\\\\code\\\\carnd\\\\CarND-Vehicle-Detection\\\\vehicles\\\\vehicles\"\n",
    "non_vehicles_dir = \"C:\\\\Users\\\\AW51R2\\\\code\\\\carnd\\\\CarND-Vehicle-Detection\\\\non-vehicles\\\\non-vehicles\"\n",
    "\n",
    "\n",
    "load_images_from_dir(vehicles_dir, cars)\n",
    "load_images_from_dir(non_vehicles_dir, notcars)\n",
    "\n",
    "print(\"cars: \", len(cars))\n",
    "print(\"notcars: \", len(notcars))\n"
   ]
  },
  {
   "cell_type": "code",
   "execution_count": 2,
   "metadata": {
    "collapsed": true
   },
   "outputs": [],
   "source": [
    "#imports\n",
    "import matplotlib.image as mpimg\n",
    "import matplotlib.pyplot as plt\n",
    "import numpy as np\n",
    "import cv2\n",
    "import glob\n",
    "import time\n",
    "from sklearn.svm import LinearSVC\n",
    "from sklearn.preprocessing import StandardScaler\n",
    "from skimage.feature import hog\n",
    "from sklearn.model_selection import train_test_split"
   ]
  },
  {
   "cell_type": "code",
   "execution_count": 3,
   "metadata": {
    "collapsed": true
   },
   "outputs": [],
   "source": [
    "#utility functions\n",
    "def get_hog_features(img, orient, pix_per_cell, cell_per_block, \n",
    "                        vis=False, feature_vec=True):\n",
    "    # Call with two outputs if vis==True\n",
    "    if vis == True:\n",
    "        features, hog_image = hog(img, orientations=orient, \n",
    "                                  pixels_per_cell=(pix_per_cell, pix_per_cell),\n",
    "                                  cells_per_block=(cell_per_block, cell_per_block), \n",
    "                                  transform_sqrt=True, \n",
    "                                  visualise=vis, feature_vector=feature_vec)\n",
    "        return features, hog_image\n",
    "    # Otherwise call with one output\n",
    "    else:      \n",
    "        features = hog(img, orientations=orient, \n",
    "                       pixels_per_cell=(pix_per_cell, pix_per_cell),\n",
    "                       cells_per_block=(cell_per_block, cell_per_block), \n",
    "                       transform_sqrt=True, \n",
    "                       visualise=vis, feature_vector=feature_vec)\n",
    "        return features\n",
    "    \n",
    "# Define a function to compute binned color features  \n",
    "def bin_spatial(img, size=(32, 32)):\n",
    "    # Use cv2.resize().ravel() to create the feature vector\n",
    "    features = cv2.resize(img, size).ravel() \n",
    "    # Return the feature vector\n",
    "    return features\n",
    "\n",
    "# Define a function to compute color histogram features \n",
    "# NEED TO CHANGE bins_range if reading .png files with mpimg!\n",
    "def color_hist(img, nbins=32, bins_range=(0, 256)):\n",
    "    # Compute the histogram of the color channels separately\n",
    "    channel1_hist = np.histogram(img[:,:,0], bins=nbins, range=bins_range)\n",
    "    channel2_hist = np.histogram(img[:,:,1], bins=nbins, range=bins_range)\n",
    "    channel3_hist = np.histogram(img[:,:,2], bins=nbins, range=bins_range)\n",
    "    # Concatenate the histograms into a single feature vector\n",
    "    hist_features = np.concatenate((channel1_hist[0], channel2_hist[0], channel3_hist[0]))\n",
    "    # Return the individual histograms, bin_centers and feature vector\n",
    "    return hist_features"
   ]
  },
  {
   "cell_type": "code",
   "execution_count": 4,
   "metadata": {
    "collapsed": true
   },
   "outputs": [],
   "source": [
    "# Define a function to draw bounding boxes\n",
    "def draw_boxes(img, bboxes, color=(0, 0, 255), thick=6):\n",
    "    # Make a copy of the image\n",
    "    imcopy = np.copy(img)\n",
    "    # Iterate through the bounding boxes\n",
    "    for bbox in bboxes:\n",
    "        # Draw a rectangle given bbox coordinates\n",
    "        cv2.rectangle(imcopy, bbox[0], bbox[1], color, thick)\n",
    "    # Return the image copy with boxes drawn\n",
    "    return imcopy"
   ]
  },
  {
   "cell_type": "code",
   "execution_count": 5,
   "metadata": {
    "collapsed": true
   },
   "outputs": [],
   "source": [
    "# Define a function to extract features from a list of images\n",
    "# Have this function call bin_spatial() and color_hist()\n",
    "def extract_features(imgs, color_space='RGB', spatial_size=(32, 32),\n",
    "                        hist_bins=32, orient=9, \n",
    "                        pix_per_cell=8, cell_per_block=2, hog_channel=0,\n",
    "                        spatial_feat=True, hist_feat=True, hog_feat=True):\n",
    "    # Create a list to append feature vectors to\n",
    "    features = []\n",
    "    # Iterate through the list of images\n",
    "    for file in imgs:\n",
    "        # Read in each one by one\n",
    "        image = cv2.imread(file)\n",
    "        file_features = extract_features_image(image, color_space, spatial_size,\n",
    "                                              hist_bins, orient,\n",
    "                                              pix_per_cell,cell_per_block,hog_channel,\n",
    "                                              spatial_feat, hist_feat, hog_feat)\n",
    "        features.append(file_features)\n",
    "    return features\n",
    "\n",
    "def extract_features_image(image, color_space='RGB', spatial_size=(32, 32),\n",
    "                        hist_bins=32, orient=9, \n",
    "                        pix_per_cell=8, cell_per_block=2, hog_channel=0,\n",
    "                        spatial_feat=True, hist_feat=True, hog_feat=True):\n",
    "    # image is BGR, [0,255]\n",
    "    file_features = []\n",
    "    image = cv2.cvtColor(image, cv2.COLOR_BGR2RGB) # [0,255]\n",
    "    feature_image = cv2.cvtColor(image, cv2.COLOR_RGB2GRAY)\n",
    "    \n",
    "    if spatial_feat == True:\n",
    "        spatial_features = bin_spatial(image, size=spatial_size)\n",
    "        file_features.append(spatial_features)\n",
    "\n",
    "    if hist_feat == True:\n",
    "        # Apply color_hist()\n",
    "        hist_features = color_hist(image, nbins=hist_bins)\n",
    "        file_features.append(hist_features)\n",
    "\n",
    "    if hog_feat == True: # we know it's gray\n",
    "        hog_features = get_hog_features(feature_image, orient, \n",
    "                        pix_per_cell, cell_per_block, vis=False, feature_vec=True)    \n",
    "        file_features.append(hog_features)\n",
    "    return np.concatenate(file_features)\n",
    "    \n",
    "\n"
   ]
  },
  {
   "cell_type": "code",
   "execution_count": 6,
   "metadata": {
    "collapsed": false
   },
   "outputs": [
    {
     "name": "stdout",
     "output_type": "stream",
     "text": [
      "done!\n"
     ]
    }
   ],
   "source": [
    "#parameters\n",
    "### TODO: Tweak these parameters and see how the results change.\n",
    "orient = 9  # HOG orientations\n",
    "pix_per_cell = 8 # HOG pixels per cell\n",
    "cell_per_block = 2 # HOG cells per block\n",
    "spatial_size = (16, 16) # Spatial binning dimensions\n",
    "hist_bins = 16    # Number of histogram bins\n",
    "spatial_feat = True # Spatial features on or off\n",
    "hist_feat = True # Histogram features on or off\n",
    "hog_feat = True # HOG features on or off\n",
    "\n",
    "# not used:\n",
    "color_space = 'LUV' # Can be RGB, HSV, LUV, HLS, YUV, YCrCb\n",
    "hog_channel = 1 # Can be 0, 1, 2, or \"ALL\"\n",
    "\n",
    "\n",
    "car_features = extract_features(cars, color_space=color_space, \n",
    "                        spatial_size=spatial_size, hist_bins=hist_bins, \n",
    "                        orient=orient, pix_per_cell=pix_per_cell, \n",
    "                        cell_per_block=cell_per_block, \n",
    "                        hog_channel=hog_channel, spatial_feat=spatial_feat, \n",
    "                        hist_feat=hist_feat, hog_feat=hog_feat)\n",
    "\n",
    "notcar_features = extract_features(notcars, color_space=color_space, \n",
    "                        spatial_size=spatial_size, hist_bins=hist_bins, \n",
    "                        orient=orient, pix_per_cell=pix_per_cell, \n",
    "                        cell_per_block=cell_per_block, \n",
    "                        hog_channel=hog_channel, spatial_feat=spatial_feat, \n",
    "                        hist_feat=hist_feat, hog_feat=hog_feat)\n",
    "\n",
    "X = np.vstack((car_features, notcar_features)).astype(np.float64)                        \n",
    "X_scaler = StandardScaler().fit(X)\n",
    "scaled_X = X_scaler.transform(X)\n",
    "\n",
    "# Define the labels vector\n",
    "y = np.hstack((np.ones(len(car_features)), np.zeros(len(notcar_features))))\n",
    "\n",
    "print(\"done!\")\n"
   ]
  },
  {
   "cell_type": "code",
   "execution_count": 7,
   "metadata": {
    "collapsed": false
   },
   "outputs": [
    {
     "name": "stdout",
     "output_type": "stream",
     "text": [
      "Using: 9 orientations 8 pixels per cell and 2 cells per block\n",
      "Feature vector length: 2580\n",
      "28.27 Seconds to train SVC...\n",
      "scores: [ 0.9380805   0.92288207  0.97635135  0.97071248  0.95212616]\n",
      "Test Accuracy of SVC =  0.9814\n"
     ]
    }
   ],
   "source": [
    "# train SVC\n",
    "# Split up data into randomized training and test sets\n",
    "from sklearn.svm import LinearSVC\n",
    "from sklearn.utils import shuffle\n",
    "from sklearn.model_selection import cross_val_score\n",
    "\n",
    "rand_state = np.random.randint(0, 100)\n",
    "X_train, X_test, y_train, y_test = train_test_split(scaled_X, y, test_size=0.1, random_state=rand_state)\n",
    "\n",
    "print('Using:',orient,'orientations',pix_per_cell,\n",
    "    'pixels per cell and', cell_per_block,'cells per block')\n",
    "print('Feature vector length:', len(X_train[0]))\n",
    "\n",
    "# Use a linear SVC \n",
    "svc = LinearSVC()\n",
    "# Check the training time for the SVC\n",
    "t=time.time()\n",
    "scores = cross_val_score(svc, scaled_X, y, cv=5)\n",
    "t2 = time.time()\n",
    "svc.fit(X_train, y_train)\n",
    "print(round(t2-t, 2), 'Seconds to train SVC...')\n",
    "print(\"scores:\", scores)\n",
    "# Check the score of the SVC\n",
    "print('Test Accuracy of SVC = ', round(svc.score(X_test, y_test), 4))"
   ]
  },
  {
   "cell_type": "code",
   "execution_count": null,
   "metadata": {
    "collapsed": false
   },
   "outputs": [],
   "source": [
    "t=time.time()\n",
    "n_predict = 20\n",
    "#print('My SVC predicts: ', svc.predict_proba(X_test[0:n_predict]))\n",
    "prd = svc.decision_function(X_test[0:n_predict])\n",
    "print(prd)\n",
    "print('For these',n_predict, 'labels: ', y_test[0:n_predict])\n",
    "t2 = time.time()\n",
    "print(round(t2-t, 5), 'Seconds to predict', n_predict,'labels with SVC')"
   ]
  },
  {
   "cell_type": "code",
   "execution_count": null,
   "metadata": {
    "collapsed": false
   },
   "outputs": [],
   "source": [
    "# save model\n",
    "from sklearn.externals import joblib\n",
    "# now you can save it to a file\n",
    "joblib.dump(svc, 'svc.pkl') "
   ]
  },
  {
   "cell_type": "code",
   "execution_count": null,
   "metadata": {
    "collapsed": false
   },
   "outputs": [],
   "source": [
    "from sklearn.externals import joblib\n",
    "# load model\n",
    "# and later you can load it\n",
    "svc = joblib.load('svc.pkl')"
   ]
  },
  {
   "cell_type": "code",
   "execution_count": 14,
   "metadata": {
    "collapsed": false
   },
   "outputs": [],
   "source": [
    "# heatmaps\n",
    "from scipy.ndimage.measurements import label\n",
    "\n",
    "def add_heat(heatmap, bbox_list):\n",
    "    # Iterate through list of bboxes\n",
    "    for box in bbox_list:\n",
    "        # Add += 1 for all pixels inside each bbox\n",
    "        # Assuming each \"box\" takes the form ((x1, y1), (x2, y2))\n",
    "        heatmap[box[0][1]:box[1][1], box[0][0]:box[1][0]] += 1\n",
    "\n",
    "    # Return updated heatmap\n",
    "    return heatmap# Iterate through list of bboxes\n",
    "    \n",
    "def apply_threshold(heatmap, threshold):\n",
    "    # Zero out pixels below the threshold\n",
    "    heatmap[heatmap <= threshold] = 0\n",
    "    # Return thresholded map\n",
    "    return heatmap\n",
    "\n",
    "def draw_labeled_bboxes(img, labels):\n",
    "    # Iterate through all detected cars\n",
    "    bboxes = []\n",
    "    for car_number in range(1, labels[1]+1):\n",
    "        # Find pixels with each car_number label value\n",
    "        nonzero = (labels[0] == car_number).nonzero()\n",
    "        # Identify x and y values of those pixels\n",
    "        nonzeroy = np.array(nonzero[0])\n",
    "        nonzerox = np.array(nonzero[1])\n",
    "        # Define a bounding box based on min/max x and y\n",
    "        if np.max(nonzerox) - np.min(nonzerox) <= 32:\n",
    "            print(\"x too narrow!\")\n",
    "        elif np.max(nonzeroy) - np.min(nonzeroy) <= 32:\n",
    "            print(\"y too narrow!\")\n",
    "        else:\n",
    "            bbox = ((np.min(nonzerox), np.min(nonzeroy)), (np.max(nonzerox), np.max(nonzeroy)))        \n",
    "            cv2.rectangle(img, bbox[0], bbox[1], (0,0,255), 6)\n",
    "            bboxes.append(bbox)\n",
    "    # Return the image\n",
    "    return img, bboxes"
   ]
  },
  {
   "cell_type": "code",
   "execution_count": 8,
   "metadata": {
    "collapsed": false
   },
   "outputs": [],
   "source": [
    "%load_ext autoreload\n",
    "%aimport hog_parallel\n",
    "%autoreload 1"
   ]
  },
  {
   "cell_type": "code",
   "execution_count": 9,
   "metadata": {
    "collapsed": true
   },
   "outputs": [],
   "source": [
    "from multiprocessing import Pool\n",
    "pool = Pool(12)"
   ]
  },
  {
   "cell_type": "code",
   "execution_count": 44,
   "metadata": {
    "collapsed": false
   },
   "outputs": [],
   "source": [
    "from functools import partial\n",
    "import hog_parallel\n",
    "\n",
    "def find_cars(img, svc, X_scaler, orient, pix_per_cell, cell_per_block, spatial_size, hist_bins):\n",
    "    \n",
    "    # img is BGR\n",
    "    # color and spatial uses RGB\n",
    "    # HOG uses gray\n",
    "    \n",
    "    scale = 1.25\n",
    "    ystart = 400\n",
    "    ystop = 800\n",
    "    \n",
    "    draw_img = np.copy(img)\n",
    "    xstart = 400\n",
    "    \n",
    "    # 64 was the orginal sampling rate, with 8 cells and 8 pix per cell\n",
    "    window = 64\n",
    "    \n",
    "    fs = []\n",
    "    nblocks_per_window = (window // pix_per_cell)-1\n",
    "    \n",
    "    img_tosearch = img[ystart:ystop,xstart:,:]\n",
    "    img_tosearch_copy = np.copy(img_tosearch)\n",
    "\n",
    "    ctrans_tosearch = cv2.cvtColor(img_tosearch,cv2.COLOR_BGR2GRAY) # for HOG\n",
    "    img_to_search_RGB = cv2.cvtColor(img_tosearch_copy, cv2.COLOR_BGR2RGB) # for color and spatial features\n",
    "\n",
    "    if scale != 1:\n",
    "        imshape = ctrans_tosearch.shape\n",
    "        ctrans_tosearch = cv2.resize(ctrans_tosearch, (np.int(imshape[1]/scale), np.int(imshape[0]/scale)))\n",
    "        img_to_search_RGB = cv2.resize(img_to_search_RGB, (np.int(imshape[1]/scale), np.int(imshape[0]/scale)))\n",
    "\n",
    "    ch1 = ctrans_tosearch\n",
    "\n",
    "    # Define blocks and steps as above\n",
    "    nxblocks = (ch1.shape[1] // pix_per_cell)-1\n",
    "    nyblocks = (ch1.shape[0] // pix_per_cell)-1 \n",
    "    nfeat_per_block = orient*cell_per_block**2\n",
    "\n",
    "    cells_per_step = 2  # Instead of overlap, define how many cells to step\n",
    "    nxsteps = (nxblocks - nblocks_per_window) // cells_per_step\n",
    "    nysteps = (nyblocks - nblocks_per_window) // cells_per_step\n",
    "\n",
    "    # Compute individual channel HOG features for the entire image\n",
    "    t = time.time()\n",
    "    hog1 = get_hog_features(ch1, orient, pix_per_cell, cell_per_block, feature_vec=False)\n",
    "        \n",
    "    for xb in range(nxsteps):\n",
    "        for yb in range(nysteps):\n",
    "            ypos = yb*cells_per_step\n",
    "            xpos = xb*cells_per_step\n",
    "            fs.append((xpos, ypos, 0))\n",
    "\n",
    "    #print(\"total windows:\", len(fs))\n",
    "        \n",
    "    #print(\"time for computing hog feature:\", time.time() - t)\n",
    "    \n",
    "    bboxes = []\n",
    "    \n",
    "    t = time.time()\n",
    "    \n",
    "    N = pool.map(partial(hog_parallel.get_hog_feature_parallel, hogs = [hog1], nblocks_per_window = nblocks_per_window), fs) \n",
    "    \n",
    "    #print(\"get all hog features takes:\", time.time() - t)\n",
    "                       \n",
    "    t = time.time()\n",
    "    \n",
    "    for idx, hog_features in enumerate(N):\n",
    "        \n",
    "        (xpos, ypos, iidx) = fs[idx]\n",
    "        xleft = xpos*pix_per_cell\n",
    "        ytop = ypos*pix_per_cell\n",
    "        \n",
    "        # Extract the image patch\n",
    "        subimg = cv2.resize(img_to_search_RGB[ytop:ytop+window, xleft:xleft+window], (64,64))\n",
    "\n",
    "        # Get color features\n",
    "        spatial_features = bin_spatial(subimg, size=spatial_size)\n",
    "        hist_features = color_hist(subimg, nbins=hist_bins)\n",
    "\n",
    "        # Scale features and make a prediction\n",
    "        test_features = X_scaler.transform(np.hstack((spatial_features, hist_features, hog_features)).reshape(1, -1))    \n",
    "        test_prediction = svc.decision_function(test_features)\n",
    "\n",
    "        if test_prediction >= 2:\n",
    "            xbox_left = np.int(xleft*scale)\n",
    "            ytop_draw = np.int(ytop*scale)\n",
    "            win_draw = np.int(window*scale)\n",
    "            bbox = ((xbox_left+xstart, ytop_draw+ystart),(xbox_left+win_draw+xstart,ytop_draw+win_draw+ystart))\n",
    "            \n",
    "            bboxes.append(bbox)        \n",
    "    \n",
    "    for bbox in bboxes:\n",
    "        cv2.rectangle(draw_img,bbox[0],bbox[1],(0,0,255),6) \n",
    "    \n",
    "    #print(\"get bboxes take:\", time.time() - t)\n",
    "    \n",
    "    # convert back to RGB\n",
    "    draw_img = cv2.cvtColor(draw_img, cv2.COLOR_BGR2RGB)\n",
    "    \n",
    "    return draw_img, bboxes"
   ]
  },
  {
   "cell_type": "code",
   "execution_count": null,
   "metadata": {
    "collapsed": false
   },
   "outputs": [],
   "source": [
    "images = glob.glob('test_images/*.jpg')\n",
    "#images = glob.glob('output_sequence/input_*.jpg')\n",
    "\n",
    "for idx, fname in enumerate(images[3:4]):\n",
    "    print(fname)\n",
    "    image = cv2.imread(fname) #test is read as BGR\n",
    "    draw_image = np.copy(image)\n",
    "    bboxes = []\n",
    "    \n",
    "    for scale in [1,2]:    \n",
    "        _, bboxes_scale = find_cars(image, \n",
    "                           ystart, ystop, \n",
    "                           scale, \n",
    "                           svc, \n",
    "                           X_scaler, \n",
    "                           orient, pix_per_cell, cell_per_block, \n",
    "                           spatial_size, hist_bins)\n",
    "        bboxes += bboxes_scale\n",
    "\n",
    "    for bbox in bboxes:\n",
    "        cv2.rectangle(draw_image, bbox[0], bbox[1], (0,0,255), 6)\n",
    "    \n",
    "    fig = plt.figure(idx+1)\n",
    "    plt.subplot(121)\n",
    "    plt.imshow(image)\n",
    "    plt.title('bboxes')\n",
    "    plt.subplot(122)\n",
    "    plt.imshow(draw_image)\n",
    "    plt.title('labeled box')\n",
    "    fig.tight_layout()\n",
    "    plt.show()"
   ]
  },
  {
   "cell_type": "code",
   "execution_count": 16,
   "metadata": {
    "collapsed": true
   },
   "outputs": [],
   "source": [
    "ystart = 400\n",
    "ystop = 800\n",
    "def process_image(image):\n",
    "    # assuming input is always BGR\n",
    "    heat = np.zeros_like(image[:,:,0]).astype(np.float)\n",
    "    \n",
    "    draw_image = np.copy(image)\n",
    "    \n",
    "    multi_bbox_img, bboxes = find_cars(image, svc, X_scaler, orient, pix_per_cell, cell_per_block, spatial_size, hist_bins)\n",
    "    \n",
    "    # Add heat to each box in box list\n",
    "    heat = add_heat(heat,bboxes)\n",
    "\n",
    "    # Apply threshold to help remove false positives\n",
    "    heat = apply_threshold(heat,1)\n",
    "\n",
    "    # Visualize the heatmap when displaying    \n",
    "    heatmap = np.clip(heat, 0, 255)\n",
    "\n",
    "    # image without heatmap\n",
    "    window_img = draw_boxes(draw_image, bboxes, color=(0, 0, 255), thick=6)\n",
    "    \n",
    "    # Find final boxes from heatmap using label function\n",
    "    labels = label(heatmap)\n",
    "    draw_img, final_bboxes = draw_labeled_bboxes(np.copy(image), labels)\n",
    "    \n",
    "    #back to RGB for display only\n",
    "    draw_img = cv2.cvtColor(draw_img, cv2.COLOR_BGR2RGB)\n",
    "    \n",
    "    #return draw_img, final_bboxes, bboxes\n",
    "    return multi_bbox_img, final_bboxes, bboxes"
   ]
  },
  {
   "cell_type": "code",
   "execution_count": 45,
   "metadata": {
    "collapsed": false
   },
   "outputs": [
    {
     "name": "stdout",
     "output_type": "stream",
     "text": [
      "test_images\\input_720.jpg\n",
      "elapsed: 1.03\n"
     ]
    },
    {
     "data": {
      "image/png": "[encoded data removed]",
      "text/plain": [
       "<matplotlib.figure.Figure at 0x17a6e0f4278>"
      ]
     },
     "metadata": {},
     "output_type": "display_data"
    }
   ],
   "source": [
    "images = glob.glob('test_images/*.jpg')\n",
    "#images = glob.glob('output_sequence/input_*.jpg')\n",
    "\n",
    "for idx, fname in enumerate(images[:1]):\n",
    "    t=time.time()\n",
    "    print(fname)\n",
    "    image = cv2.imread(fname) #test is read as BGR\n",
    "    draw_image, _, _ = process_image(image)\n",
    "    print(\"elapsed:\", round((time.time() - t),2))\n",
    "    \n",
    "    fig = plt.figure(idx+1)\n",
    "    plt.subplot(121)\n",
    "    plt.imshow(image)\n",
    "    plt.title('original BGR')\n",
    "    plt.subplot(122)\n",
    "    plt.imshow(draw_image)\n",
    "    plt.title('labeled image')\n",
    "    fig.tight_layout()\n",
    "    plt.show()"
   ]
  },
  {
   "cell_type": "code",
   "execution_count": null,
   "metadata": {
    "collapsed": true
   },
   "outputs": [],
   "source": [
    "pool.close()"
   ]
  },
  {
   "cell_type": "code",
   "execution_count": null,
   "metadata": {
    "collapsed": false
   },
   "outputs": [],
   "source": [
    "# cross-image heatmap\n",
    "images = glob.glob('output_sequence/*.jpg')\n",
    "\n",
    "from collections import deque\n",
    "q = deque() # keep 5 frames of final_bboxes\n",
    "\n",
    "for idx, fname in enumerate(images):\n",
    "    print(fname)\n",
    "    image = cv2.imread(fname) #test is read as BGR\n",
    "    _, _, bboxes_without_heap = process_image(image)\n",
    "    print(\"bbox per image:\", bboxes_without_heap)\n",
    "    \n",
    "    # cross image heatmap\n",
    "    q.append(bboxes_without_heap)\n",
    "    if len(q) > 5:\n",
    "        q.popleft()\n",
    "    # flatten\n",
    "    ql = [item for sublist in q for item in sublist]\n",
    "    print(\"queue:\", ql)\n",
    "    # heat again\n",
    "    heat = np.zeros_like(image[:,:,0]).astype(np.float)\n",
    "    heat = add_heat(heat,ql)\n",
    "    heat = apply_threshold(heat,1)\n",
    "    \n",
    "    heat_std = heat.std(ddof=1)\n",
    "    if heat_std != 0.0:\n",
    "        heat = (heat-heat.mean())/heat_std\n",
    "    heat = apply_threshold(heat, np.max([heat.std(), 1]))\n",
    "    \n",
    "    heatmap = np.clip(heat, 0, 255)\n",
    "    labels = label(heatmap)\n",
    "    draw_img, avg_bboxes = draw_labeled_bboxes(np.copy(image), labels)\n",
    "    print(\"avg bboxes:\", avg_bboxes)\n",
    "    \n",
    "    #back to RGB for display only\n",
    "    draw_img = cv2.cvtColor(draw_img, cv2.COLOR_BGR2RGB)\n",
    "    \n",
    "    \n",
    "    \n",
    "    fig = plt.figure(idx+1)\n",
    "    plt.subplot(121)\n",
    "    plt.imshow(image)\n",
    "    plt.title('original BGR')\n",
    "    plt.subplot(122)\n",
    "    plt.imshow(draw_img)\n",
    "    plt.title('labeled image')\n",
    "    fig.tight_layout()\n",
    "    plt.show()"
   ]
  },
  {
   "cell_type": "code",
   "execution_count": null,
   "metadata": {
    "collapsed": false
   },
   "outputs": [],
   "source": [
    "%matplotlib inline\n",
    "# sample of HOG\n",
    "# Generate a random index to look at a car image\n",
    "for i in range(5):\n",
    "    ind = np.random.randint(0, len(cars_training))\n",
    "    print(cars_training[ind])\n",
    "    # Read in the image\n",
    "    image = cv2.imread(cars_training[ind])\n",
    "    image = cv2.cvtColor(image, cv2.COLOR_BGR2RGB) #RGB, HSV, LUV, HLS, YUV, YCrCb\n",
    "    # TODO: this is gray space\n",
    "    gray = cv2.cvtColor(image, cv2.COLOR_RGB2GRAY)\n",
    "    #r = gray[:,:,1]\n",
    "    r = gray\n",
    "    # Define HOG parameters\n",
    "    orient = 9\n",
    "    pix_per_cell = 8\n",
    "    cell_per_block = 2\n",
    "    # Call our function with vis=True to see an image output\n",
    "    features, hog_image = get_hog_features(r, orient, \n",
    "                            pix_per_cell, cell_per_block, \n",
    "                            vis=True, feature_vec=False)\n",
    "\n",
    "\n",
    "    # Plot the examples\n",
    "    fig = plt.figure(i)\n",
    "    plt.subplot(121)\n",
    "    plt.imshow(r,cmap='gray')\n",
    "    plt.title('Car gray')\n",
    "    plt.subplot(122)\n",
    "    plt.imshow(hog_image, cmap='gray')\n",
    "    plt.title('Car HOG')"
   ]
  },
  {
   "cell_type": "code",
   "execution_count": null,
   "metadata": {
    "collapsed": false
   },
   "outputs": [],
   "source": [
    "%matplotlib inline\n",
    "# sample of HOG\n",
    "# Generate a random index to look at a car image\n",
    "for i in range(5):\n",
    "    ind = np.random.randint(0, len(notcars))\n",
    "    print(notcars[ind])\n",
    "    # Read in the image\n",
    "    image = mpimg.imread(notcars[ind])\n",
    "    # TODO: this is gray space\n",
    "    gray = cv2.cvtColor(image, cv2.COLOR_RGB2YCrCb)\n",
    "    r = gray[:,:,0]\n",
    "    # Define HOG parameters\n",
    "    orient = 9\n",
    "    pix_per_cell = 8\n",
    "    cell_per_block = 2\n",
    "    # Call our function with vis=True to see an image output\n",
    "    features, hog_image = get_hog_features(r, orient, \n",
    "                            pix_per_cell, cell_per_block, \n",
    "                            vis=True, feature_vec=False)\n",
    "\n",
    "\n",
    "    # Plot the examples\n",
    "    fig = plt.figure(i)\n",
    "    plt.subplot(121)\n",
    "    plt.imshow(r, cmap='gray')\n",
    "    plt.title('Not Car gray')\n",
    "    plt.subplot(122)\n",
    "    plt.imshow(hog_image, cmap='gray')\n",
    "    plt.title('Not Car HOG')"
   ]
  },
  {
   "cell_type": "code",
   "execution_count": 31,
   "metadata": {
    "collapsed": true
   },
   "outputs": [],
   "source": [
    "# Import everything needed to edit/save/watch video clips\n",
    "from moviepy.editor import VideoFileClip\n",
    "from IPython.display import HTML"
   ]
  },
  {
   "cell_type": "code",
   "execution_count": 46,
   "metadata": {
    "collapsed": false
   },
   "outputs": [],
   "source": [
    "from collections import deque\n",
    "q = deque()\n",
    "avg_size = 5\n",
    "\n",
    "cross_avg = True\n",
    "count = 0\n",
    "\n",
    "def video_process_image(image):\n",
    "    global q\n",
    "    global cross_avg\n",
    "    global count\n",
    "    \n",
    "    image = cv2.cvtColor(image, cv2.COLOR_RGB2BGR)\n",
    "    \n",
    "    if cross_avg:\n",
    "        _, _, bboxes_without_heap = process_image(image)\n",
    "        #print(\"bbox per image:\", bboxes_without_heap)\n",
    "\n",
    "        # cross image heatmap\n",
    "        q.append(bboxes_without_heap)\n",
    "        if len(q) > avg_size:\n",
    "            q.popleft()\n",
    "        # flatten\n",
    "        ql = [item for sublist in q for item in sublist]\n",
    "        #print(\"queue:\", ql)\n",
    "        # heat again\n",
    "        heat = np.zeros_like(image[:,:,0]).astype(np.float)\n",
    "        heat = add_heat(heat,ql)\n",
    "        heat = apply_threshold(heat,2)\n",
    "        \n",
    "        # normalize\n",
    "        heat_std = heat.std(ddof=1)\n",
    "        if heat_std != 0.0:\n",
    "            heat = (heat-heat.mean())/heat_std\n",
    "        heat = apply_threshold(heat, np.max([heat.std(), 1]))\n",
    "        \n",
    "        \n",
    "        heatmap = np.clip(heat, 0, 255)\n",
    "        labels = label(heatmap)\n",
    "        draw_img, avg_bboxes = draw_labeled_bboxes(np.copy(image), labels)\n",
    "        #print(\"avg bboxes:\", avg_bboxes)\n",
    "\n",
    "        #back to RGB for display only\n",
    "        draw_img = cv2.cvtColor(draw_img, cv2.COLOR_BGR2RGB)\n",
    "                \n",
    "        #cv2.imwrite(\"output_sequence_all_2/input_\" + str(count) + \".jpg\", image)\n",
    "        #cv2.imwrite(\"output_sequence_all_2/output\" + str(count) + \".jpg\", draw_img)\n",
    "        count += 1\n",
    "\n",
    "        return draw_img\n",
    "    \n",
    "    else:\n",
    "        draw_img, _ = process_image(image)\n",
    "        return draw_img"
   ]
  },
  {
   "cell_type": "code",
   "execution_count": null,
   "metadata": {
    "collapsed": false
   },
   "outputs": [],
   "source": [
    "%matplotlib inline\n",
    "clip1 = VideoFileClip('project_video.mp4', audio=False)\n",
    "frame = clip1.get_frame(28) # this is RGB\n",
    "img = video_process_image(frame)\n",
    "plt.imshow(img)"
   ]
  },
  {
   "cell_type": "code",
   "execution_count": null,
   "metadata": {
    "collapsed": true
   },
   "outputs": [],
   "source": [
    "count = 0\n",
    "def video_process_image_dummy(image):\n",
    "    global count\n",
    "    image_BGR = cv2.cvtColor(image, cv2.COLOR_RGB2BGR)\n",
    "    draw_img, _ = process_image(image_BGR)\n",
    "    # save img and res, for debugging purpose\n",
    "    res_save = cv2.cvtColor(draw_img, cv2.COLOR_RGB2BGR)\n",
    "    cv2.imwrite(\"output_sequence_2/input_\" + str(count) + \".jpg\", image_BGR)\n",
    "    cv2.imwrite(\"output_sequence_2/output\" + str(count) + \".jpg\", res_save)\n",
    "    count += 1\n",
    "    #print(\"img saved \", line.count)\n",
    "    #return draw_image\n",
    "    return draw_img"
   ]
  },
  {
   "cell_type": "code",
   "execution_count": null,
   "metadata": {
    "collapsed": false,
    "scrolled": true
   },
   "outputs": [
    {
     "name": "stdout",
     "output_type": "stream",
     "text": [
      "[MoviePy] >>>> Building video project_video_output_temp.mp4\n",
      "[MoviePy] Writing video project_video_output_temp.mp4\n"
     ]
    },
    {
     "name": "stderr",
     "output_type": "stream",
     "text": [
      " 86%|██████████████████████████████████████████████████████████████████████▏           | 65/76 [01:11<00:11,  1.06s/it]"
     ]
    }
   ],
   "source": [
    "%matplotlib inline\n",
    "output = 'project_video_output_temp.mp4'\n",
    "clip1 = VideoFileClip('project_video.mp4', audio=False).subclip(9,12)\n",
    "white_clip = clip1.fl_image(video_process_image)\n",
    "white_clip.write_videofile(output, audio = False)"
   ]
  },
  {
   "cell_type": "code",
   "execution_count": 43,
   "metadata": {
    "collapsed": false,
    "scrolled": true
   },
   "outputs": [
    {
     "data": {
      "text/html": [
       "\n",
       "<video width=\"960\" height=\"540\" controls>\n",
       "  <source src=\"project_video_output_temp.mp4\">\n",
       "</video>\n"
      ],
      "text/plain": [
       "<IPython.core.display.HTML object>"
      ]
     },
     "execution_count": 43,
     "metadata": {},
     "output_type": "execute_result"
    }
   ],
   "source": [
    "HTML(\"\"\"\n",
    "<video width=\"960\" height=\"540\" controls>\n",
    "  <source src=\"{0}\">\n",
    "</video>\n",
    "\"\"\".format(output))"
   ]
  },
  {
   "cell_type": "code",
   "execution_count": null,
   "metadata": {
    "collapsed": true
   },
   "outputs": [],
   "source": []
  }
 ],
 "metadata": {
  "anaconda-cloud": {},
  "kernelspec": {
   "display_name": "Python [conda env:carnd]",
   "language": "python",
   "name": "conda-env-carnd-py"
  },
  "language_info": {
   "codemirror_mode": {
    "name": "ipython",
    "version": 3
   },
   "file_extension": ".py",
   "mimetype": "text/x-python",
   "name": "python",
   "nbconvert_exporter": "python",
   "pygments_lexer": "ipython3",
   "version": "3.5.2"
  }
 },
 "nbformat": 4,
 "nbformat_minor": 1
}
